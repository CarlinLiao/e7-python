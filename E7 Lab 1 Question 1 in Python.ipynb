{
 "cells": [
  {
   "cell_type": "markdown",
   "metadata": {},
   "source": [
    "We have to import a special package `numpy` to do numerical stuff in Python because Python wasn't built with mathy calculations in mind. This is also why most functions we'll call will be prefixed with `np._____()`, since we have to refer to this special package to do commands that are built into MATLAB.\n",
    "\n",
    "(In fact, `numpy` is sectioned so we sometimes have to refer to subpackages, like the case of `np.math.factorial()` to do what would be simply `factorial()` in MATLAB. We could be super specific and `import numpy.math as npm` or something, but usually this single import statement is enough.)"
   ]
  },
  {
   "cell_type": "code",
   "execution_count": 1,
   "metadata": {},
   "outputs": [],
   "source": [
    "import numpy as np"
   ]
  },
  {
   "cell_type": "markdown",
   "metadata": {},
   "source": [
    "# `myMatlabCalculator.py`\n",
    "\n",
    "In MATLAB:\n",
    "\n",
    "```\n",
    "function [E1, E2, E3, E4, E5, E6, E7, E8, E9, E10] = myMatlabCalculator(a,b,c,x)\n",
    "\n",
    "E1 = sqrt((x-a)^2 + b^2);\n",
    "E2 = a/factorial(2)*x^2 + b/factorial(1)*x + c/factorial(0);\n",
    "E3 = (a*x + (a*b)/c)^(1/3);\n",
    "E4 = (x^2 + 1)/((a*x-1)*abs(c-exp(x)));\n",
    "E5 = log(2*x - b);\n",
    "E6 = log10(4*abs(b) + c/5 );\n",
    "E7 = sqrt((1-cos(a))/(1+cos(a)));\n",
    "E8 = acos(cos(pi/180*x));\n",
    "E9 = exp(pi*sqrt(-1)) + 1;\n",
    "E10 = (2*b*c-3)/(sin((b-2*a)/(sqrt(a^2 + b^2+c^2))));\n",
    "\n",
    "end\n",
    "```\n",
    "\n",
    "In Python:"
   ]
  },
  {
   "cell_type": "code",
   "execution_count": 2,
   "metadata": {},
   "outputs": [],
   "source": [
    "def myMatlabCalculator(a,b,c,x):\n",
    "\n",
    "    E1 = np.sqrt( (x-a)**2 + b**2 )\n",
    "    E2 = a/np.math.factorial(2)*x**2 + b/np.math.factorial(1)*x + c/np.math.factorial(0)\n",
    "    E3 = ( a*x + (a*b)/c )**(1/3);\n",
    "    E4 = ( x**2 + 1 )/( (a*x-1) * abs(c-np.exp(x)) );\n",
    "    E5 = np.log( 2*x - b );\n",
    "    E6 = np.log10( 4*np.abs(b) + c/5 );\n",
    "    E7 = np.sqrt( (1-np.cos(a))/(1+np.cos(a)) );\n",
    "    E8 = np.arccos( np.cos(np.pi/180*x) );\n",
    "    E9 = np.exp( np.pi*np.sqrt(-1) ) + 1;\n",
    "    E10 = ( 2*b*c-3 )/( np.sin((b-2*a)/(np.sqrt(a**2 + b**2+c**2)) ) );\n",
    "\n",
    "    return E1, E2, E3, E4, E5, E6, E7, E8, E9, E10"
   ]
  },
  {
   "cell_type": "markdown",
   "metadata": {},
   "source": [
    "A few things to note:\n",
    "\n",
    "* We use `**` instead of `^` for exponents because `^` does something different in Python.\n",
    "* `acos()` is also `np.arccos()`\n",
    "* we don't need semicolons to suppress the output.\n",
    "* `np.sqrt()` will give a `NaN` (Not a Number) when we try to square root a negative number. We'll have to go to a different package `lib.scimath.sqrt()` for a function that matches MATLAB's `sqrt()` behavior. \n",
    "\n",
    "Testing it out:"
   ]
  },
  {
   "cell_type": "code",
   "execution_count": 3,
   "metadata": {},
   "outputs": [
    {
     "name": "stderr",
     "output_type": "stream",
     "text": [
      "/home/carlin/anaconda3/lib/python3.6/site-packages/ipykernel_launcher.py:11: RuntimeWarning: invalid value encountered in sqrt\n",
      "  # This is added back by InteractiveShellApp.init_path()\n"
     ]
    },
    {
     "data": {
      "text/plain": [
       "(6.0827625302982193,\n",
       " -2.0,\n",
       " 1.1447142425533319,\n",
       " 0.29506740839006179,\n",
       " 2.3025850929940459,\n",
       " 1.3944516808262164,\n",
       " 14.10141994717169,\n",
       " 0.034906585039885668,\n",
       " nan,\n",
       " 51.030109430285883)"
      ]
     },
     "execution_count": 3,
     "metadata": {},
     "output_type": "execute_result"
    }
   ],
   "source": [
    "a = 3\n",
    "b = -6\n",
    "c = 4\n",
    "x = 2\n",
    "\n",
    "ans = myMatlabCalculator(a,b,c,x)\n",
    "ans"
   ]
  }
 ],
 "metadata": {
  "kernelspec": {
   "display_name": "Python 3",
   "language": "python",
   "name": "python3"
  },
  "language_info": {
   "codemirror_mode": {
    "name": "ipython",
    "version": 3
   },
   "file_extension": ".py",
   "mimetype": "text/x-python",
   "name": "python",
   "nbconvert_exporter": "python",
   "pygments_lexer": "ipython3",
   "version": "3.6.3"
  }
 },
 "nbformat": 4,
 "nbformat_minor": 2
}
