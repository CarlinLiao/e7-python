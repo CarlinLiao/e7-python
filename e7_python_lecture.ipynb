{
 "cells": [
  {
   "cell_type": "markdown",
   "metadata": {},
   "source": [
    "# Introduction to Python for E7\n",
    "\n",
    "Python is a programming language in common use today. It's gaining popularity in numerical applications as an open-source alternative to, say, MATLAB, as well used for software developers in its own right but it behaves a lot differently than you might expect programming languages to based on. Let's get started.\n",
    "\n",
    "## Installing Python and Jupyter\n",
    "\n",
    "Unlike MATLAB, you don't necessarily download Python in one neat application. There are a ton of different ways to interact with and code in Python, but the way generally preferred by people using Python for numerical applications (like the kind of stuff we do in MATLAB) is Anaconda (a way to manage Python versions and associated 'libraries' -- we'll discuss this further later) and Jupyter notebooks (the text-and-code editor you're looking at right now).\n",
    "\n",
    "[Try following along with this website to get Jupyter up and running, either on someone else's server or right on your laptop.](http://jupyter.readthedocs.io/en/latest/content-quickstart.html)\n",
    "\n",
    "### Note on Python versions\n",
    "\n",
    "Python has two main versions (sort of like MATALB r2017b and r2018a), Python 2.7 and Python 3. Since I started using Python in the last few years I prefer Python 3, but many people you'll run into (like a few of our teaching team) as well as many legacy applications run in Python 2. The differences are minimal, so I won't be getting into them in this lesson.\n",
    "\n",
    "## Getting started with Python\n",
    "\n",
    "Now that we have our Jupyter notebook running, let's write our first line of Python!"
   ]
  },
  {
   "cell_type": "code",
   "execution_count": null,
   "metadata": {},
   "outputs": [],
   "source": []
  },
  {
   "cell_type": "markdown",
   "metadata": {},
   "source": [
    "We can do basic math in vanilla Python:"
   ]
  },
  {
   "cell_type": "code",
   "execution_count": null,
   "metadata": {},
   "outputs": [],
   "source": []
  },
  {
   "cell_type": "code",
   "execution_count": null,
   "metadata": {},
   "outputs": [],
   "source": []
  },
  {
   "cell_type": "markdown",
   "metadata": {},
   "source": [
    "The `^` operator does something else in Python, so we use `**` instead for exponentials."
   ]
  },
  {
   "cell_type": "code",
   "execution_count": null,
   "metadata": {},
   "outputs": [],
   "source": []
  },
  {
   "cell_type": "markdown",
   "metadata": {},
   "source": [
    "Arrays (actually, these are called lists in Python) behave differently in Python. Unlike in MATLAB, commas are required, and they aren't necessarily numerical."
   ]
  },
  {
   "cell_type": "code",
   "execution_count": null,
   "metadata": {},
   "outputs": [],
   "source": [
    "a = [1, 2] # notice no semicolons are necessary to suppress output \n",
    "b = [3, 'this isn\\'t a number']\n"
   ]
  },
  {
   "cell_type": "markdown",
   "metadata": {},
   "source": [
    "We'll have to do something special if we want to have Python-like numerical arrays and matrices."
   ]
  },
  {
   "cell_type": "markdown",
   "metadata": {},
   "source": [
    "## Conditionals and loops\n",
    "\n",
    "One reason why Python is popular is that it looks a lot like regular English. This is most visible in if statements and loops, which look a bit different from MATLAB.\n",
    "\n",
    "### if statements"
   ]
  },
  {
   "cell_type": "code",
   "execution_count": null,
   "metadata": {},
   "outputs": [],
   "source": [
    "d = 1\n",
    "\n",
    "if : # this colon denotes that next set of indented lines belong to this statement\n",
    "    print('yup')\n",
    "# note that we don't have to say end"
   ]
  },
  {
   "cell_type": "code",
   "execution_count": null,
   "metadata": {},
   "outputs": [],
   "source": [
    "if :\n",
    "    print('nope')"
   ]
  },
  {
   "cell_type": "code",
   "execution_count": null,
   "metadata": {},
   "outputs": [],
   "source": [
    "f = True\n",
    "\n",
    "if :\n",
    "    print('both')"
   ]
  },
  {
   "cell_type": "code",
   "execution_count": null,
   "metadata": {},
   "outputs": [],
   "source": [
    "if :\n",
    "    print('either?')"
   ]
  },
  {
   "cell_type": "markdown",
   "metadata": {},
   "source": [
    "Using `==` works as well. Instead of using `~` to negate conditionals (as in `~=`) we use `!` (as in `!=`)."
   ]
  },
  {
   "cell_type": "code",
   "execution_count": null,
   "metadata": {},
   "outputs": [],
   "source": [
    "if :\n",
    "    print('works!')"
   ]
  },
  {
   "cell_type": "markdown",
   "metadata": {},
   "source": [
    "`||` and `&&` do not work in Python. Use `and` and `or` instead."
   ]
  },
  {
   "cell_type": "code",
   "execution_count": null,
   "metadata": {},
   "outputs": [],
   "source": [
    "if :\n",
    "    print('ok')"
   ]
  },
  {
   "cell_type": "markdown",
   "metadata": {},
   "source": [
    "## For loops\n",
    "\n",
    "Like in MATLAB, we loop through elements in either a predefined list or one we state in the definition of the for loop."
   ]
  },
  {
   "cell_type": "code",
   "execution_count": null,
   "metadata": {},
   "outputs": [],
   "source": [
    "# MATLAB : for i = [1 1 2 3 5]\n",
    "for :\n",
    "    print(i)"
   ]
  },
  {
   "cell_type": "markdown",
   "metadata": {},
   "source": [
    "Most typically we use the built-in `range` function to loop through an incrementing list by taking the length of that list using `len`. Note how we start with 0 because of zero-indexing."
   ]
  },
  {
   "cell_type": "code",
   "execution_count": null,
   "metadata": {},
   "outputs": [],
   "source": [
    "a = ['first', 'second', 'third']\n",
    "# MATLAB: for i = 0:length(a)\n",
    "for : # len\n",
    "    print(i)"
   ]
  },
  {
   "cell_type": "markdown",
   "metadata": {},
   "source": [
    "## While loops"
   ]
  },
  {
   "cell_type": "code",
   "execution_count": null,
   "metadata": {},
   "outputs": [],
   "source": [
    "i = 0\n",
    "while :\n",
    "    print(i)\n",
    "    i += 1 # this is shorthand for i = i+1"
   ]
  },
  {
   "cell_type": "markdown",
   "metadata": {},
   "source": [
    "## Using Libraries\n",
    "\n",
    "We have to import a special package `numpy` to do numerical stuff in Python because Python wasn't built with mathy calculations in mind. This is also why most functions we'll call will be prefixed with `np._____()`, since we have to refer to this special package to do commands that were built into MATLAB.\n",
    "\n",
    "(In fact, `numpy` is sectioned so we sometimes have to refer to subpackages, like the case of `np.math.factorial()` to do what would be simply `factorial()` in MATLAB. We could be super specific and `import numpy.math as npm` or something, but usually this single import statement is enough.)\n",
    "\n",
    "Basic Python without any libraries can accomplish a lot, but more of then than not when anyone is writing code in Python they end up importing at least a few packages to make their lives easier."
   ]
  },
  {
   "cell_type": "code",
   "execution_count": null,
   "metadata": {},
   "outputs": [],
   "source": []
  },
  {
   "cell_type": "markdown",
   "metadata": {},
   "source": [
    "Now we can create two arrays (instead of lists) and add them together."
   ]
  },
  {
   "cell_type": "code",
   "execution_count": null,
   "metadata": {},
   "outputs": [],
   "source": []
  },
  {
   "cell_type": "markdown",
   "metadata": {},
   "source": [
    "## Using numpy\n",
    "\n",
    "Let's try out `numpy` by reimplementing the very first question from our very first lab, `myMatlabCalculator`!"
   ]
  },
  {
   "cell_type": "code",
   "execution_count": null,
   "metadata": {},
   "outputs": [],
   "source": [
    "a = 3\n",
    "b = -6\n",
    "c = 4\n",
    "x = 2"
   ]
  },
  {
   "cell_type": "code",
   "execution_count": null,
   "metadata": {},
   "outputs": [],
   "source": [
    "# MATLAB: E1 = sqrt((x-a)^2 + b^2);\n"
   ]
  },
  {
   "cell_type": "code",
   "execution_count": null,
   "metadata": {},
   "outputs": [],
   "source": [
    "# MATLAB: E2 = a/factorial(2)*x^2 + b/factorial(1)*x + c/factorial(0);\n"
   ]
  },
  {
   "cell_type": "markdown",
   "metadata": {},
   "source": [
    "So that's what it looks like line-by-line, but what does the entire function look like? How do we define a function in Python?\n",
    "\n",
    "## Defining a function\n",
    "\n",
    "### In MATLAB\n",
    "\n",
    "`myMatlabCalculator.m`\n",
    "\n",
    "```\n",
    "function [E1, E2, E3, E4, E5, E6, E7, E8, E9, E10] = myMatlabCalculator(a,b,c,x)\n",
    "\n",
    "E1 = sqrt((x-a)^2 + b^2);\n",
    "E2 = a/factorial(2)*x^2 + b/factorial(1)*x + c/factorial(0);\n",
    "E3 = (a*x + (a*b)/c)^(1/3);\n",
    "E4 = (x^2 + 1)/((a*x-1)*abs(c-exp(x)));\n",
    "E5 = log(2*x - b);\n",
    "E6 = log10(4*abs(b) + c/5 );\n",
    "E7 = sqrt((1-cos(a))/(1+cos(a)));\n",
    "E8 = acos(cos(pi/180*x));\n",
    "E9 = exp(pi*sqrt(-1)) + 1;\n",
    "E10 = (2*b*c-3)/(sin((b-2*a)/(sqrt(a^2 + b^2+c^2))));\n",
    "\n",
    "end\n",
    "```\n",
    "\n",
    "### In Python\n",
    "\n",
    "`myMatlabCalculator.py`"
   ]
  },
  {
   "cell_type": "code",
   "execution_count": null,
   "metadata": {},
   "outputs": [],
   "source": [
    "def myMatlabCalculator(a,b,c,x):\n",
    "\n",
    "    E1 = np.sqrt( (x-a)**2 + b**2 )\n",
    "    E2 = a/np.math.factorial(2)*x**2 + b/np.math.factorial(1)*x + c/np.math.factorial(0)\n",
    "    E3 = ( a*x + (a*b)/c )**(1/3);\n",
    "    E4 = ( x**2 + 1 )/( (a*x-1) * abs(c-np.exp(x)) );\n",
    "    E5 = np.log( 2*x - b );\n",
    "    E6 = np.log10( 4*np.abs(b) + c/5 );\n",
    "    E7 = np.sqrt( (1-np.cos(a))/(1+np.cos(a)) );\n",
    "    E8 = np.arccos( np.cos(np.pi/180*x) );\n",
    "    E9 = np.exp( np.pi*np.sqrt(-1) ) + 1;\n",
    "    E10 = ( 2*b*c-3 )/( np.sin((b-2*a)/(np.sqrt(a**2 + b**2+c**2)) ) );\n",
    "\n",
    "    return E1, E2, E3, E4, E5, E6, E7, E8, E9, E10"
   ]
  },
  {
   "cell_type": "markdown",
   "metadata": {},
   "source": [
    "A few things to note:\n",
    "\n",
    "* `factorial` isn't in the main `numpy` package and is instead buried in the `numpy.math` submodule (a library within a library, sort of)\n",
    "* As before, we use `**` instead of `^` for exponents because `^` does something different in Python.\n",
    "* `acos()` is also `np.arccos()`\n",
    "* `np.sqrt()` will give a `NaN` (Not a Number) when we try to square root a negative number. We'll have to go to a different package `lib.scimath.sqrt()` for a function that matches MATLAB's `sqrt()` behavior. \n",
    "* **Spacing matters!** We don't have `end` statements in Python. Instead, the way Python tells how your function (or conditional, or loop) is over is by how far each line is indented.\n",
    "\n",
    "Testing it out:"
   ]
  },
  {
   "cell_type": "code",
   "execution_count": null,
   "metadata": {},
   "outputs": [],
   "source": [
    "a = 3\n",
    "b = -6\n",
    "c = 4\n",
    "x = 2\n",
    "\n",
    "ans = myMatlabCalculator(a,b,c,x)\n",
    "ans"
   ]
  },
  {
   "cell_type": "markdown",
   "metadata": {},
   "source": [
    "## Indexing in Python and numpy\n",
    "\n",
    "One key difference between MATLAB and Python (and indeed most programming languages) is that MATLAB is 1-indexed while Python is 0 indexed. What does this mean?"
   ]
  },
  {
   "cell_type": "code",
   "execution_count": null,
   "metadata": {},
   "outputs": [],
   "source": [
    "a = [1, 2, 3, 4, 5]\n"
   ]
  },
  {
   "cell_type": "markdown",
   "metadata": {},
   "source": [
    "So unlike in MATLAB\n",
    "1. we start counting from 0 instead of 1\n",
    "2. we use square brackets to index instead of parentheses\n",
    "\n",
    "Like in MATLAB, we use the colon operator to select a range of values, going from the first index all the way up to _but not including_ the second index specified. "
   ]
  },
  {
   "cell_type": "code",
   "execution_count": null,
   "metadata": {},
   "outputs": [],
   "source": []
  },
  {
   "cell_type": "markdown",
   "metadata": {},
   "source": [
    "If we want to select every second entry, we put the skipping interval at the _end_ instead of in the middle like in MATLAB."
   ]
  },
  {
   "cell_type": "code",
   "execution_count": null,
   "metadata": {},
   "outputs": [],
   "source": []
  },
  {
   "cell_type": "markdown",
   "metadata": {},
   "source": [
    "Instead of using `end`, we use `-1` (or `-n`) to select the first (or nth) entry from the end of the list."
   ]
  },
  {
   "cell_type": "code",
   "execution_count": null,
   "metadata": {},
   "outputs": [],
   "source": []
  },
  {
   "cell_type": "markdown",
   "metadata": {},
   "source": [
    "This works with numpy as well."
   ]
  },
  {
   "cell_type": "code",
   "execution_count": null,
   "metadata": {},
   "outputs": [],
   "source": [
    "aa = np.array([[1, 2, 3], [10, 20, 30], [100, 200, 300]])\n",
    "# we have to use a list of lists in order to define a 2D (or ND) array in numpy\n",
    "aa"
   ]
  },
  {
   "cell_type": "code",
   "execution_count": null,
   "metadata": {},
   "outputs": [],
   "source": []
  },
  {
   "cell_type": "markdown",
   "metadata": {},
   "source": [
    "Row and column selections work similarly to MATLAB."
   ]
  },
  {
   "cell_type": "code",
   "execution_count": null,
   "metadata": {},
   "outputs": [],
   "source": []
  },
  {
   "cell_type": "markdown",
   "metadata": {},
   "source": [
    "## Reading in data and plotting\n",
    "\n",
    "Finally, we'll check out two other important libraries that we'll use to\n",
    "1. read in data (`historicaldata.txt`) using the pandas library\n",
    "2. plot that data using the matplotlib package\n",
    "\n",
    "First we need to import both:"
   ]
  },
  {
   "cell_type": "code",
   "execution_count": null,
   "metadata": {},
   "outputs": [],
   "source": [
    "import pandas as pd\n",
    "import matplotlib.pyplot as plt # matplotlib has more features, but we just need the plotting stuff for now"
   ]
  },
  {
   "cell_type": "markdown",
   "metadata": {},
   "source": [
    "Next, let's read in the data and take a look at it."
   ]
  },
  {
   "cell_type": "code",
   "execution_count": null,
   "metadata": {},
   "outputs": [],
   "source": []
  },
  {
   "cell_type": "markdown",
   "metadata": {},
   "source": [
    "It works a little like a MATLAB table, but we can also index this \"DataFrame\" like a matrix as well."
   ]
  },
  {
   "cell_type": "code",
   "execution_count": null,
   "metadata": {},
   "outputs": [],
   "source": []
  },
  {
   "cell_type": "markdown",
   "metadata": {},
   "source": [
    "# Why use Python? Why not?\n",
    "\n",
    "Personally, I generally prefer using Python than MATLAB, but here's a quick . \n",
    "\n",
    "Pros\n",
    "* Free(!!!), open source, and community supported\n",
    "* Versatile (intended for applications outside of math)\n",
    "* More customizable, with many extensions and libraries developed by anyone\n",
    "* Often runs faster than MATLAB (especially when looping)\n",
    "* Gateway to other programming languages (javascript, Java, C, etc.) \n",
    "\n",
    "Cons\n",
    "* Not intended for numerical methods, so doing these calculations can be slightly unwieldy\n",
    "* In some cases, not as intuitive as MATLAB is, especially libraries, zero-indexing, etc.\n",
    "* Often less supported in both industry and academia (especially in your classes)\n",
    "* Requires some amount of background knowledge about computer environments (not plug-and-play like MATLAB)\n",
    "\n",
    "# Further learning\n",
    "\n",
    "If you're interested in learning more about...\n",
    "\n",
    "* Python in general, check out CS 61A or the self-paced language learning classes\n",
    "* computer programming, see CS 61A or 61B (first month will be a steep learning curve)\n",
    "* statistics and using Python for math and calculations, try Data 8 (or Data 100 for hard mode)\n",
    "* the shell/Python data science stack, check out STAT 159 taught by one of the creators of iPython and Jupyter\n",
    "\n",
    "...and I'm sure there are many, many more classes "
   ]
  }
 ],
 "metadata": {
  "kernelspec": {
   "display_name": "Python 3",
   "language": "python",
   "name": "python3"
  },
  "language_info": {
   "codemirror_mode": {
    "name": "ipython",
    "version": 3
   },
   "file_extension": ".py",
   "mimetype": "text/x-python",
   "name": "python",
   "nbconvert_exporter": "python",
   "pygments_lexer": "ipython3",
   "version": "3.6.3"
  }
 },
 "nbformat": 4,
 "nbformat_minor": 2
}
