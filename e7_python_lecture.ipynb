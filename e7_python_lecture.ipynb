{
 "cells": [
  {
   "cell_type": "markdown",
   "metadata": {},
   "source": [
    "# Introduction to Python for E7\n",
    "\n",
    "Python is a programming language in common use today. It's gaining popularity in numerical applications as an open-source alternative to, say, MATLAB, as well used for software developers in its own right but it behaves a lot differently than you might expect programming languages to based on. Let's get started.\n",
    "\n",
    "## Installing Python and Jupyter\n",
    "\n",
    "Unlike MATLAB, you don't necessarily download Python in one neat application. There are a ton of different ways to interact with and code in Python, but the way generally preferred by people using Python for numerical applications (like the kind of stuff we do in MATLAB) is Anaconda (a way to manage Python versions and associated 'libraries' -- we'll discuss this further later) and Jupyter notebooks (the text-and-code editor you're looking at right now).\n",
    "\n",
    "[Try following along with this website to get Jupyter up and running, either on someone else's server or right on your laptop.](http://jupyter.readthedocs.io/en/latest/content-quickstart.html)\n",
    "\n",
    "### Note on Python versions\n",
    "\n",
    "Python has two main versions (sort of like MATALB r2017b and r2018a), Python 2.7 and Python 3. Since I started using Python in the last few years I prefer Python 3, but many people you'll run into (like a few of our teaching team) as well as many legacy applications run in Python 2. The differences are minimal, so I won't be getting into them in this lesson.\n",
    "\n",
    "## Getting started with Python\n",
    "\n",
    "Now that we have our Jupyter notebook running, let's write our first line of Python!"
   ]
  },
  {
   "cell_type": "code",
   "execution_count": 1,
   "metadata": {},
   "outputs": [
    {
     "name": "stdout",
     "output_type": "stream",
     "text": [
      "hi world!\n"
     ]
    }
   ],
   "source": [
    "print('hi world!')"
   ]
  },
  {
   "cell_type": "markdown",
   "metadata": {},
   "source": [
    "We can do basic math in vanilla Python:"
   ]
  },
  {
   "cell_type": "code",
   "execution_count": 2,
   "metadata": {},
   "outputs": [
    {
     "data": {
      "text/plain": [
       "3"
      ]
     },
     "execution_count": 2,
     "metadata": {},
     "output_type": "execute_result"
    }
   ],
   "source": [
    "1 + 2"
   ]
  },
  {
   "cell_type": "code",
   "execution_count": 3,
   "metadata": {},
   "outputs": [
    {
     "data": {
      "text/plain": [
       "2.5"
      ]
     },
     "execution_count": 3,
     "metadata": {},
     "output_type": "execute_result"
    }
   ],
   "source": [
    "5 / 2"
   ]
  },
  {
   "cell_type": "markdown",
   "metadata": {},
   "source": [
    "The `^` operator does something else in Python, so we use `**` instead for exponentials."
   ]
  },
  {
   "cell_type": "code",
   "execution_count": 4,
   "metadata": {},
   "outputs": [
    {
     "data": {
      "text/plain": [
       "1.5"
      ]
     },
     "execution_count": 4,
     "metadata": {},
     "output_type": "execute_result"
    }
   ],
   "source": [
    "2.25**(1/2)"
   ]
  },
  {
   "cell_type": "markdown",
   "metadata": {},
   "source": [
    "Arrays (actually, these are called lists in Python) behave differently in Python. Unlike in MATLAB, commas are required, and they aren't necessarily numerical."
   ]
  },
  {
   "cell_type": "code",
   "execution_count": 5,
   "metadata": {},
   "outputs": [
    {
     "data": {
      "text/plain": [
       "[1, 2, 3, \"this isn't a number\"]"
      ]
     },
     "execution_count": 5,
     "metadata": {},
     "output_type": "execute_result"
    }
   ],
   "source": [
    "a = [1, 2] # notice no semicolons are necessary to suppress output \n",
    "b = [3, 'this isn\\'t a number']\n",
    "a + b"
   ]
  },
  {
   "cell_type": "markdown",
   "metadata": {},
   "source": [
    "We'll have to do something special if we want to have Python-like numerical arrays and matrices."
   ]
  },
  {
   "cell_type": "markdown",
   "metadata": {},
   "source": [
    "## Conditionals and loops\n",
    "\n",
    "One reason why Python is popular is that it looks a lot like regular English. This is most visible in if statements and loops, which look a bit different from MATLAB.\n",
    "\n",
    "### if statements"
   ]
  },
  {
   "cell_type": "code",
   "execution_count": 6,
   "metadata": {},
   "outputs": [
    {
     "name": "stdout",
     "output_type": "stream",
     "text": [
      "yup\n"
     ]
    }
   ],
   "source": [
    "d = 1\n",
    "\n",
    "if d is 1:\n",
    "    print('yup')"
   ]
  },
  {
   "cell_type": "code",
   "execution_count": 7,
   "metadata": {},
   "outputs": [
    {
     "name": "stdout",
     "output_type": "stream",
     "text": [
      "nope\n"
     ]
    }
   ],
   "source": [
    "if d is not 2:\n",
    "    print('nope')"
   ]
  },
  {
   "cell_type": "code",
   "execution_count": 8,
   "metadata": {},
   "outputs": [
    {
     "name": "stdout",
     "output_type": "stream",
     "text": [
      "both\n"
     ]
    }
   ],
   "source": [
    "f = True\n",
    "\n",
    "if (d is 1) and f:\n",
    "    print('both')"
   ]
  },
  {
   "cell_type": "code",
   "execution_count": 9,
   "metadata": {},
   "outputs": [
    {
     "name": "stdout",
     "output_type": "stream",
     "text": [
      "either?\n"
     ]
    }
   ],
   "source": [
    "if not f or d is 1:\n",
    "    print('either?')"
   ]
  },
  {
   "cell_type": "markdown",
   "metadata": {},
   "source": [
    "Using `==` works as well. Instead of using `~` to negate conditionals (as in `~=`) we use `!` (as in `!=`)."
   ]
  },
  {
   "cell_type": "code",
   "execution_count": 10,
   "metadata": {},
   "outputs": [
    {
     "name": "stdout",
     "output_type": "stream",
     "text": [
      "works!\n"
     ]
    }
   ],
   "source": [
    "if (d == 1) and (f != False):\n",
    "    print('works!')"
   ]
  },
  {
   "cell_type": "markdown",
   "metadata": {},
   "source": [
    "`||` and `&&` do not work in Python. Use `and` and `or` instead."
   ]
  },
  {
   "cell_type": "code",
   "execution_count": 11,
   "metadata": {},
   "outputs": [
    {
     "ename": "SyntaxError",
     "evalue": "invalid syntax (<ipython-input-11-e93feeb5f211>, line 1)",
     "output_type": "error",
     "traceback": [
      "\u001b[0;36m  File \u001b[0;32m\"<ipython-input-11-e93feeb5f211>\"\u001b[0;36m, line \u001b[0;32m1\u001b[0m\n\u001b[0;31m    if True || False:\u001b[0m\n\u001b[0m             ^\u001b[0m\n\u001b[0;31mSyntaxError\u001b[0m\u001b[0;31m:\u001b[0m invalid syntax\n"
     ]
    }
   ],
   "source": [
    "if True || False:\n",
    "    print('ok')"
   ]
  },
  {
   "cell_type": "markdown",
   "metadata": {},
   "source": [
    "## For loops"
   ]
  },
  {
   "cell_type": "code",
   "execution_count": 12,
   "metadata": {},
   "outputs": [
    {
     "name": "stdout",
     "output_type": "stream",
     "text": [
      "1\n",
      "1\n",
      "2\n"
     ]
    }
   ],
   "source": [
    "for i in [1, 1, 2]:\n",
    "    print(i)"
   ]
  },
  {
   "cell_type": "markdown",
   "metadata": {},
   "source": [
    "## While loops"
   ]
  },
  {
   "cell_type": "code",
   "execution_count": 13,
   "metadata": {},
   "outputs": [
    {
     "name": "stdout",
     "output_type": "stream",
     "text": [
      "0\n",
      "1\n",
      "2\n",
      "3\n",
      "4\n"
     ]
    }
   ],
   "source": [
    "i = 0\n",
    "while i < 5:\n",
    "    print(i)\n",
    "    i += 1"
   ]
  },
  {
   "cell_type": "markdown",
   "metadata": {},
   "source": [
    "## Using Libraries\n",
    "\n",
    "We have to import a special package `numpy` to do numerical stuff in Python because Python wasn't built with mathy calculations in mind. This is also why most functions we'll call will be prefixed with `np._____()`, since we have to refer to this special package to do commands that were built into MATLAB.\n",
    "\n",
    "(In fact, `numpy` is sectioned so we sometimes have to refer to subpackages, like the case of `np.math.factorial()` to do what would be simply `factorial()` in MATLAB. We could be super specific and `import numpy.math as npm` or something, but usually this single import statement is enough.)\n",
    "\n",
    "Basic Python without any libraries can accomplish a lot, but more of then than not when anyone is writing code in Python they end up importing at least a few packages to make their lives easier."
   ]
  },
  {
   "cell_type": "code",
   "execution_count": 14,
   "metadata": {},
   "outputs": [],
   "source": [
    "import numpy as np"
   ]
  },
  {
   "cell_type": "markdown",
   "metadata": {},
   "source": [
    "Now we can create two arrays (instead of lists) and add them together."
   ]
  },
  {
   "cell_type": "code",
   "execution_count": 15,
   "metadata": {},
   "outputs": [
    {
     "data": {
      "text/plain": [
       "array([4, 6])"
      ]
     },
     "execution_count": 15,
     "metadata": {},
     "output_type": "execute_result"
    }
   ],
   "source": [
    "aa = np.array([1,2])\n",
    "bb = np.array([3,4])\n",
    "aa + bb"
   ]
  },
  {
   "cell_type": "markdown",
   "metadata": {},
   "source": [
    "## Using numpy\n",
    "\n",
    "Let's try out `numpy` by reimplementing the very first question from our very first lab, `myMatlabCalculator`!"
   ]
  },
  {
   "cell_type": "code",
   "execution_count": 16,
   "metadata": {},
   "outputs": [],
   "source": [
    "a = 3\n",
    "b = -6\n",
    "c = 4\n",
    "x = 2"
   ]
  },
  {
   "cell_type": "code",
   "execution_count": 17,
   "metadata": {},
   "outputs": [],
   "source": [
    "# MATLAB: E1 = sqrt((x-a)^2 + b^2);\n",
    "E1 = np.sqrt( (x-a)**2 + b**2 )"
   ]
  },
  {
   "cell_type": "code",
   "execution_count": 18,
   "metadata": {},
   "outputs": [],
   "source": [
    "# MATLAB: E2 = a/factorial(2)*x^2 + b/factorial(1)*x + c/factorial(0);\n",
    "E2 = a/np.math.factorial(2)*x**2 + b/np.math.factorial(1)*x + c/np.math.factorial(0)"
   ]
  },
  {
   "cell_type": "markdown",
   "metadata": {},
   "source": [
    "So that's what it looks like line-by-line, but what does the entire function look like? How do we define a function in Python?\n",
    "\n",
    "## Defining a function\n",
    "\n",
    "### In MATLAB\n",
    "\n",
    "`myMatlabCalculator.m`\n",
    "\n",
    "```\n",
    "function [E1, E2, E3, E4, E5, E6, E7, E8, E9, E10] = myMatlabCalculator(a,b,c,x)\n",
    "\n",
    "E1 = sqrt((x-a)^2 + b^2);\n",
    "E2 = a/factorial(2)*x^2 + b/factorial(1)*x + c/factorial(0);\n",
    "E3 = (a*x + (a*b)/c)^(1/3);\n",
    "E4 = (x^2 + 1)/((a*x-1)*abs(c-exp(x)));\n",
    "E5 = log(2*x - b);\n",
    "E6 = log10(4*abs(b) + c/5 );\n",
    "E7 = sqrt((1-cos(a))/(1+cos(a)));\n",
    "E8 = acos(cos(pi/180*x));\n",
    "E9 = exp(pi*sqrt(-1)) + 1;\n",
    "E10 = (2*b*c-3)/(sin((b-2*a)/(sqrt(a^2 + b^2+c^2))));\n",
    "\n",
    "end\n",
    "```\n",
    "\n",
    "### In Python\n",
    "\n",
    "`myMatlabCalculator.py`"
   ]
  },
  {
   "cell_type": "code",
   "execution_count": 19,
   "metadata": {},
   "outputs": [],
   "source": [
    "def myMatlabCalculator(a,b,c,x):\n",
    "\n",
    "    E1 = np.sqrt( (x-a)**2 + b**2 )\n",
    "    E2 = a/np.math.factorial(2)*x**2 + b/np.math.factorial(1)*x + c/np.math.factorial(0)\n",
    "    E3 = ( a*x + (a*b)/c )**(1/3);\n",
    "    E4 = ( x**2 + 1 )/( (a*x-1) * abs(c-np.exp(x)) );\n",
    "    E5 = np.log( 2*x - b );\n",
    "    E6 = np.log10( 4*np.abs(b) + c/5 );\n",
    "    E7 = np.sqrt( (1-np.cos(a))/(1+np.cos(a)) );\n",
    "    E8 = np.arccos( np.cos(np.pi/180*x) );\n",
    "    E9 = np.exp( np.pi*np.sqrt(-1) ) + 1;\n",
    "    E10 = ( 2*b*c-3 )/( np.sin((b-2*a)/(np.sqrt(a**2 + b**2+c**2)) ) );\n",
    "\n",
    "    return E1, E2, E3, E4, E5, E6, E7, E8, E9, E10"
   ]
  },
  {
   "cell_type": "markdown",
   "metadata": {},
   "source": [
    "A few things to note:\n",
    "\n",
    "* `factorial` isn't in the main `numpy` package and is instead buried in the `numpy.math` submodule (a library within a library, sort of)\n",
    "* As before, we use `**` instead of `^` for exponents because `^` does something different in Python.\n",
    "* `acos()` is also `np.arccos()`\n",
    "* `np.sqrt()` will give a `NaN` (Not a Number) when we try to square root a negative number. We'll have to go to a different package `lib.scimath.sqrt()` for a function that matches MATLAB's `sqrt()` behavior. \n",
    "* **Spacing matters!** We don't have `end` statements in Python. Instead, the way Python tells how your function (or conditional, or loop) is over is by how far each line is indented.\n",
    "\n",
    "Testing it out:"
   ]
  },
  {
   "cell_type": "code",
   "execution_count": 20,
   "metadata": {},
   "outputs": [
    {
     "name": "stderr",
     "output_type": "stream",
     "text": [
      "/home/carlin/anaconda3/lib/python3.6/site-packages/ipykernel_launcher.py:11: RuntimeWarning: invalid value encountered in sqrt\n",
      "  # This is added back by InteractiveShellApp.init_path()\n"
     ]
    },
    {
     "data": {
      "text/plain": [
       "(6.0827625302982193,\n",
       " -2.0,\n",
       " 1.1447142425533319,\n",
       " 0.29506740839006179,\n",
       " 2.3025850929940459,\n",
       " 1.3944516808262164,\n",
       " 14.10141994717169,\n",
       " 0.034906585039885668,\n",
       " nan,\n",
       " 51.030109430285883)"
      ]
     },
     "execution_count": 20,
     "metadata": {},
     "output_type": "execute_result"
    }
   ],
   "source": [
    "a = 3\n",
    "b = -6\n",
    "c = 4\n",
    "x = 2\n",
    "\n",
    "ans = myMatlabCalculator(a,b,c,x)\n",
    "ans"
   ]
  },
  {
   "cell_type": "markdown",
   "metadata": {},
   "source": [
    "## Indexing in Python and numpy\n",
    "\n",
    "One key difference between MATLAB and Python (and indeed most programming languages) is that MATLAB is 1-indexed while Python is 0 indexed. What does this mean?"
   ]
  },
  {
   "cell_type": "code",
   "execution_count": 21,
   "metadata": {},
   "outputs": [
    {
     "name": "stdout",
     "output_type": "stream",
     "text": [
      "1\n",
      "2\n"
     ]
    }
   ],
   "source": [
    "a = [1, 2, 3, 4, 5]\n",
    "print(a[0])\n",
    "print(a[1])"
   ]
  },
  {
   "cell_type": "markdown",
   "metadata": {},
   "source": [
    "So unlike in MATLAB\n",
    "1. we start counting from 0 instead of 1\n",
    "2. we use square brackets to index instead of parentheses\n",
    "\n",
    "Like in MATLAB, we use the colon operator to select a range of values, going from the first index all the way up to _but not including_ the second index specified. "
   ]
  },
  {
   "cell_type": "code",
   "execution_count": 22,
   "metadata": {},
   "outputs": [
    {
     "data": {
      "text/plain": [
       "[1, 2, 3]"
      ]
     },
     "execution_count": 22,
     "metadata": {},
     "output_type": "execute_result"
    }
   ],
   "source": [
    "a[0:3]"
   ]
  },
  {
   "cell_type": "markdown",
   "metadata": {},
   "source": [
    "If we want to select every second entry, we put the skipping interval at the _end_ instead of in the middle like in MATLAB."
   ]
  },
  {
   "cell_type": "code",
   "execution_count": 23,
   "metadata": {},
   "outputs": [
    {
     "data": {
      "text/plain": [
       "[1, 3, 5]"
      ]
     },
     "execution_count": 23,
     "metadata": {},
     "output_type": "execute_result"
    }
   ],
   "source": [
    "a[0:5:2]"
   ]
  },
  {
   "cell_type": "markdown",
   "metadata": {},
   "source": [
    "Instead of using `end`, we use `-1` (or `-n`) to select the first (or nth) entry from the end of the list."
   ]
  },
  {
   "cell_type": "code",
   "execution_count": 24,
   "metadata": {},
   "outputs": [
    {
     "data": {
      "text/plain": [
       "4"
      ]
     },
     "execution_count": 24,
     "metadata": {},
     "output_type": "execute_result"
    }
   ],
   "source": [
    "a[-2]"
   ]
  },
  {
   "cell_type": "markdown",
   "metadata": {},
   "source": [
    "This works with numpy as well."
   ]
  },
  {
   "cell_type": "code",
   "execution_count": 25,
   "metadata": {},
   "outputs": [
    {
     "data": {
      "text/plain": [
       "array([[  1,   2,   3],\n",
       "       [ 10,  20,  30],\n",
       "       [100, 200, 300]])"
      ]
     },
     "execution_count": 25,
     "metadata": {},
     "output_type": "execute_result"
    }
   ],
   "source": [
    "aa = np.array([[1, 2, 3], [10, 20, 30], [100, 200, 300]])\n",
    "# we have to use a list of lists in order to define a 2D (or ND) array in numpy\n",
    "aa"
   ]
  },
  {
   "cell_type": "code",
   "execution_count": 26,
   "metadata": {},
   "outputs": [
    {
     "data": {
      "text/plain": [
       "20"
      ]
     },
     "execution_count": 26,
     "metadata": {},
     "output_type": "execute_result"
    }
   ],
   "source": [
    "aa[1,1]"
   ]
  },
  {
   "cell_type": "markdown",
   "metadata": {},
   "source": [
    "Row and column selections work similarly to MATLAB."
   ]
  },
  {
   "cell_type": "code",
   "execution_count": 27,
   "metadata": {},
   "outputs": [
    {
     "data": {
      "text/plain": [
       "array([100, 200, 300])"
      ]
     },
     "execution_count": 27,
     "metadata": {},
     "output_type": "execute_result"
    }
   ],
   "source": [
    "aa[-1,:]"
   ]
  },
  {
   "cell_type": "markdown",
   "metadata": {},
   "source": [
    "## Reading in data and plotting\n",
    "\n",
    "Finally, we'll check out two other important libraries that we'll use to\n",
    "1. read in data (`historicaldata.txt`) using the pandas library\n",
    "2. plot that data using the matplotlib package\n",
    "\n",
    "First we need to import both:"
   ]
  },
  {
   "cell_type": "code",
   "execution_count": 28,
   "metadata": {},
   "outputs": [],
   "source": [
    "import pandas as pd\n",
    "import matplotlib.pyplot as plt # matplotlib has more features, but we just need the plotting stuff for now"
   ]
  },
  {
   "cell_type": "markdown",
   "metadata": {},
   "source": [
    "Next, let's read in the data and take a look at it."
   ]
  },
  {
   "cell_type": "code",
   "execution_count": 29,
   "metadata": {},
   "outputs": [
    {
     "data": {
      "text/html": [
       "<div>\n",
       "<style scoped>\n",
       "    .dataframe tbody tr th:only-of-type {\n",
       "        vertical-align: middle;\n",
       "    }\n",
       "\n",
       "    .dataframe tbody tr th {\n",
       "        vertical-align: top;\n",
       "    }\n",
       "\n",
       "    .dataframe thead th {\n",
       "        text-align: right;\n",
       "    }\n",
       "</style>\n",
       "<table border=\"1\" class=\"dataframe\">\n",
       "  <thead>\n",
       "    <tr style=\"text-align: right;\">\n",
       "      <th></th>\n",
       "      <th>Year</th>\n",
       "      <th>fossil fuel and industry GtC/yr</th>\n",
       "    </tr>\n",
       "  </thead>\n",
       "  <tbody>\n",
       "    <tr>\n",
       "      <th>0</th>\n",
       "      <td>1959</td>\n",
       "      <td>2.45</td>\n",
       "    </tr>\n",
       "    <tr>\n",
       "      <th>1</th>\n",
       "      <td>1960</td>\n",
       "      <td>2.57</td>\n",
       "    </tr>\n",
       "    <tr>\n",
       "      <th>2</th>\n",
       "      <td>1961</td>\n",
       "      <td>2.58</td>\n",
       "    </tr>\n",
       "    <tr>\n",
       "      <th>3</th>\n",
       "      <td>1962</td>\n",
       "      <td>2.69</td>\n",
       "    </tr>\n",
       "    <tr>\n",
       "      <th>4</th>\n",
       "      <td>1963</td>\n",
       "      <td>2.83</td>\n",
       "    </tr>\n",
       "  </tbody>\n",
       "</table>\n",
       "</div>"
      ],
      "text/plain": [
       "   Year  fossil fuel and industry GtC/yr\n",
       "0  1959                             2.45\n",
       "1  1960                             2.57\n",
       "2  1961                             2.58\n",
       "3  1962                             2.69\n",
       "4  1963                             2.83"
      ]
     },
     "execution_count": 29,
     "metadata": {},
     "output_type": "execute_result"
    }
   ],
   "source": [
    "df = pd.read_csv('historicaldata.txt', delimiter='\t')\n",
    "df.head()"
   ]
  },
  {
   "cell_type": "markdown",
   "metadata": {},
   "source": [
    "It works a little like a MATLAB table, but we can also index this \"DataFrame\" like a matrix as well."
   ]
  },
  {
   "cell_type": "code",
   "execution_count": 30,
   "metadata": {},
   "outputs": [
    {
     "data": {
      "image/png": "[encoded data removed]",
      "text/plain": [
       "<Figure size 432x288 with 1 Axes>"
      ]
     },
     "metadata": {},
     "output_type": "display_data"
    }
   ],
   "source": [
    "plt.plot(df['Year'],df.iloc[:,1])\n",
    "plt.xlabel('Year')\n",
    "plt.ylabel('GtC/yr')\n",
    "plt.show()"
   ]
  }
 ],
 "metadata": {
  "kernelspec": {
   "display_name": "Python 3",
   "language": "python",
   "name": "python3"
  },
  "language_info": {
   "codemirror_mode": {
    "name": "ipython",
    "version": 3
   },
   "file_extension": ".py",
   "mimetype": "text/x-python",
   "name": "python",
   "nbconvert_exporter": "python",
   "pygments_lexer": "ipython3",
   "version": "3.6.3"
  }
 },
 "nbformat": 4,
 "nbformat_minor": 2
}
